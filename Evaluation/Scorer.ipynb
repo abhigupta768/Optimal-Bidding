{
 "cells": [
  {
   "cell_type": "code",
   "execution_count": 1,
   "metadata": {
    "collapsed": true
   },
   "outputs": [],
   "source": [
    "import pandas as pd\n",
    "import numpy as np"
   ]
  },
  {
   "cell_type": "markdown",
   "metadata": {},
   "source": [
    "Load actual values of demand, solar output and market price. Also load the predicted bidding price and quantity."
   ]
  },
  {
   "cell_type": "code",
   "execution_count": 2,
   "metadata": {
    "collapsed": true
   },
   "outputs": [],
   "source": [
    "demand=pd.read_csv(\"../Processed Data/Demand_Val.csv\", header=None)\n",
    "solar_out=pd.read_csv(\"../Processed Data/Solar_Val.csv\", header=None)\n",
    "market_price=pd.read_csv(\"../Processed Data/Price_Val.csv\", header=None)\n",
    "bid_price=pd.read_csv(\"../Output/BidPrice.csv\", header=None)\n",
    "bid_quantity=pd.read_csv(\"../Output/BidQuantity.csv\", header=None)"
   ]
  },
  {
   "cell_type": "code",
   "execution_count": 3,
   "metadata": {},
   "outputs": [],
   "source": [
    "bill=pd.DataFrame(np.random.rand(50,24))"
   ]
  },
  {
   "cell_type": "markdown",
   "metadata": {},
   "source": [
    "Calculate the daily bill using the constraints given in the PS.\n",
    "\n",
    "Case 1: If bid price is greater than the market price, we buy the corresponding quantity from the market and charge or discharge the battery according to the solar output and the total demand of the block. If demand is greater than combined bid quantity, solar and battery, we buy electricity from discom.\n",
    "\n",
    "Case 2: If bid price is less than the market price, we loose the bid and have to take electricity from battery and solar output. If that is not sufficient, we have to buy it from discom."
   ]
  },
  {
   "cell_type": "code",
   "execution_count": 4,
   "metadata": {},
   "outputs": [],
   "source": [
    "battery=np.float64(0.0)\n",
    "for i in range(50):\n",
    "    for j in range(24):\n",
    "        block_bill=np.float64(0.0)\n",
    "        if(bid_price.loc[i,j]>market_price.loc[i,j]):\n",
    "            block_bill=block_bill+bid_price.loc[i,j]*bid_quantity.loc[i,j]\n",
    "            if(bid_quantity.loc[i,j]>demand.loc[i,j] or bid_quantity.loc[i,j]+solar_out.loc[i,j]>demand.loc[i,j]):\n",
    "                if(battery<np.float64(25.0)):\n",
    "                    if(bid_quantity.loc[i,j]-demand.loc[i,j]+solar_out.loc[i,j]<=np.float64(5.0)):\n",
    "                        battery=battery+bid_quantity.loc[i,j]-demand.loc[i,j]+solar_out.loc[i,j]\n",
    "                    else:\n",
    "                        battery=battery+np.float64(5.0)\n",
    "                    if(battery>np.float64(25.0)):\n",
    "                        battery=np.float64(25.0)\n",
    "                else:\n",
    "                    battery=np.float64(25.0)\n",
    "            else:\n",
    "                if(battery<=np.float64(5.0)):\n",
    "                    if(demand.loc[i,j]>bid_quantity.loc[i,j]+solar_out.loc[i,j]+np.float64(0.8)*battery):\n",
    "                        block_bill=block_bill+(np.float64(7.0)*(demand.loc[i,j]-bid_quantity.loc[i,j]-solar_out.loc[i,j]-np.float64(0.8)*battery))\n",
    "                        battery=np.float64(0.0)\n",
    "                    else:\n",
    "                        battery=battery-(np.float64(1.25)*(demand.loc[i,j]-bid_quantity.loc[i,j]-solar_out.loc[i,j]))\n",
    "                else:\n",
    "                    if(demand.loc[i,j]>bid_quantity.loc[i,j]+solar_out.loc[i,j]+np.float64(4.0)):\n",
    "                        block_bill=block_bill+(np.float64(7.0)*(demand.loc[i,j]-bid_quantity.loc[i,j]-solar_out.loc[i,j]-np.float64(4.0)))\n",
    "                        battery=battery-np.float64(5.0)\n",
    "                    else:\n",
    "                        battery=battery-(np.float64(1.25)*(demand.loc[i,j]-bid_quantity.loc[i,j]-solar_out.loc[i,j]))\n",
    "        else:\n",
    "            if(solar_out.loc[i,j]>demand.loc[i,j]):\n",
    "                if(battery<np.float64(25.0)):\n",
    "                    if(solar_out.loc[i,j]-demand.loc[i,j]<=np.float64(5.0)):\n",
    "                        battery=battery+solar_out.loc[i,j]-demand.loc[i,j]\n",
    "                    else:\n",
    "                        battery=battery+np.float64(5.0)\n",
    "                    if(battery>np.float64(25.0)):\n",
    "                        battery=np.float64(25.0)\n",
    "                else:\n",
    "                    battery=np.float64(25.0)\n",
    "            else:\n",
    "                if(battery<=np.float64(5.0)):\n",
    "                    if(demand.loc[i,j]>solar_out.loc[i,j]+np.float64(0.8)*battery):\n",
    "                        block_bill=block_bill+(np.float64(7.0)*(demand.loc[i,j]-solar_out.loc[i,j]-np.float64(0.8)*battery))\n",
    "                        battery=np.float64(0.0)\n",
    "                    else:\n",
    "                        battery=battery-(np.float64(1.25)*(demand.loc[i,j]-solar_out.loc[i,j]))\n",
    "                else:\n",
    "                    if(demand.loc[i,j]>solar_out.loc[i,j]+np.float64(4.0)):\n",
    "                        block_bill=block_bill+(np.float64(7.0)*(demand.loc[i,j]-solar_out.loc[i,j]-np.float64(4.0)))\n",
    "                        battery=battery-np.float64(5.0)\n",
    "                    else:\n",
    "                        battery=battery-(np.float64(1.25)*(demand.loc[i,j]-solar_out.loc[i,j]))\n",
    "        bill.loc[i,j]=block_bill"
   ]
  },
  {
   "cell_type": "code",
   "execution_count": 5,
   "metadata": {
    "collapsed": true
   },
   "outputs": [],
   "source": [
    "bill.to_csv(\"Daily_bill.csv\", index=False, header=None)"
   ]
  }
 ],
 "metadata": {
  "kernelspec": {
   "display_name": "Python 3",
   "language": "python",
   "name": "python3"
  },
  "language_info": {
   "codemirror_mode": {
    "name": "ipython",
    "version": 2
   },
   "file_extension": ".py",
   "mimetype": "text/x-python",
   "name": "python",
   "nbconvert_exporter": "python",
   "pygments_lexer": "ipython2",
   "version": "2.7.14"
  }
 },
 "nbformat": 4,
 "nbformat_minor": 2
}
