{
 "cells": [
  {
   "cell_type": "code",
   "execution_count": 1,
   "metadata": {
    "collapsed": true
   },
   "outputs": [],
   "source": [
    "import torch\n",
    "import pandas as pd\n",
    "import torch.optim as optim\n",
    "from torch.nn import Parameter\n",
    "from torch.autograd import Variable\n",
    "import torch.nn as nn\n",
    "import torch.nn.functional as F"
   ]
  },
  {
   "cell_type": "code",
   "execution_count": 2,
   "metadata": {
    "collapsed": true
   },
   "outputs": [],
   "source": [
    "class Net(nn.Module):\n",
    "    def __init__(self):\n",
    "        super(Net, self).__init__()\n",
    "        self.w1 = Parameter(torch.ones(24) * 0.98) \n",
    "        self.w2 = Parameter(torch.ones(24) * 1.2)\n",
    "\n",
    "    def forward(self, oracle_demand, oracle_solar, oracle_price):\n",
    "        bid_demand = (oracle_demand - oracle_solar) * self.w1\n",
    "        bid_price = oracle_price * self.w2\n",
    "        bid_price.data.clamp_(max=7)\n",
    "        return bid_demand, bid_price"
   ]
  },
  {
   "cell_type": "code",
   "execution_count": 3,
   "metadata": {
    "collapsed": true
   },
   "outputs": [],
   "source": [
    "demand_train_oracle = pd.read_csv('./Data/Demand_Train_pred.csv', header=None)\n",
    "demand_train_actual = pd.read_csv('./Data/Demand_Train.csv', header=None)\n",
    "solar_train_oracle = pd.read_csv('./Data/Solar_Train_pred.csv', header=None)\n",
    "solar_train_actual = pd.read_csv('./Data/Solar_Train.csv', header=None)\n",
    "price_train_oracle = pd.read_csv('./Data/Price_Train_pred.csv', header=None)\n",
    "price_train_actual = pd.read_csv('./Data/Price_Train.csv', header=None)"
   ]
  },
  {
   "cell_type": "code",
   "execution_count": 4,
   "metadata": {
    "collapsed": true
   },
   "outputs": [],
   "source": [
    "def cost(bid_quantities, bid_prices, demands, solar_outputs, prices):\n",
    "    BATTERY_CAPACITY = 25\n",
    "    BATTERY_CAPACITY_PER_HOUR = 5\n",
    "    BATTERY_EFFICIENCY = 0.8\n",
    "    DISCOM_RATE = 7\n",
    "    battery = Variable(torch.Tensor([0]))\n",
    "    cost = Variable(torch.Tensor([0]))\n",
    "    result = []\n",
    "    for bid_quantity, bid_price, demand, solar_output, price in zip(bid_quantities.contiguous().view(-1), bid_prices.contiguous().view(-1), demands.contiguous().view(-1), solar_outputs.contiguous().view(-1), prices.contiguous().view(-1)):\n",
    "        energy_from_sun = torch.min(solar_output, demand)\n",
    "        bid_won = bid_price > price\n",
    "        energy_from_market = bid_won.float() * bid_quantity\n",
    "        energy_from_battery = torch.min(torch.clamp((demand - energy_from_sun - energy_from_market) / BATTERY_EFFICIENCY, min=0),\n",
    "                                        torch.clamp(battery, max=BATTERY_CAPACITY_PER_HOUR)) * BATTERY_EFFICIENCY\n",
    "        energy_from_DISCOM = torch.clamp(demand - energy_from_sun - energy_from_market - energy_from_battery, min=0)\n",
    "        \n",
    "        residual_energy = torch.clamp(energy_from_market + energy_from_sun - demand, min=0)\n",
    "        battery = battery + torch.clamp(residual_energy, max=BATTERY_CAPACITY_PER_HOUR) - energy_from_battery / BATTERY_EFFICIENCY\n",
    "        battery = torch.clamp(battery, min=0, max=BATTERY_CAPACITY)\n",
    "        \n",
    "        cost += energy_from_market * bid_price + energy_from_DISCOM * DISCOM_RATE\n",
    "    return cost"
   ]
  },
  {
   "cell_type": "code",
   "execution_count": 5,
   "metadata": {
    "collapsed": true
   },
   "outputs": [],
   "source": [
    "net = Net()"
   ]
  },
  {
   "cell_type": "code",
   "execution_count": 6,
   "metadata": {
    "collapsed": true
   },
   "outputs": [],
   "source": [
    "data_size = demand_train_actual.values.shape[0]\n",
    "epochs = 1\n",
    "batch_size = 50\n",
    "learning_rate = 0.00001"
   ]
  },
  {
   "cell_type": "code",
   "execution_count": 7,
   "metadata": {
    "scrolled": true
   },
   "outputs": [
    {
     "name": "stdout",
     "output_type": "stream",
     "text": [
      "525818.9809027778\n"
     ]
    }
   ],
   "source": [
    "for _ in range(epochs):\n",
    "    start = 0\n",
    "    end = batch_size\n",
    "    epoch_loss = 0\n",
    "    while end <= data_size:\n",
    "        net.zero_grad()\n",
    "        bid_quantities, bid_prices = net(Variable(torch.Tensor(demand_train_oracle.values[start:end])), \n",
    "                              Variable(torch.Tensor(solar_train_oracle.values[start:end])), \n",
    "                              Variable(torch.Tensor(price_train_oracle.values[start:end])))\n",
    "        loss = cost(bid_quantities, bid_prices,\n",
    "             Variable(torch.Tensor(demand_train_actual.values[start:end])),\n",
    "             Variable(torch.Tensor(solar_train_actual.values[start:end])),\n",
    "             Variable(torch.Tensor(price_train_actual.values[start:end])))\n",
    "        loss.backward()\n",
    "        for f in net.parameters():\n",
    "            f.data.sub_(f.grad.data * learning_rate)\n",
    "            f.data.clamp_(min=0.5, max=2)\n",
    "        epoch_loss += loss.data[0]\n",
    "        \n",
    "        start += batch_size\n",
    "        end += batch_size\n",
    "    print(epoch_loss * batch_size / data_size)"
   ]
  },
  {
   "cell_type": "code",
   "execution_count": 8,
   "metadata": {
    "collapsed": true
   },
   "outputs": [],
   "source": [
    "demand_pub_oracle = pd.read_csv('./Data/Demand_LB_pred.csv', header=None)\n",
    "solar_pub_oracle = pd.read_csv('./Data/Solar_LB_pred.csv', header=None)\n",
    "price_pub_oracle = pd.read_csv('./Data/Price_LB_pred.csv', header=None)"
   ]
  },
  {
   "cell_type": "code",
   "execution_count": 9,
   "metadata": {
    "scrolled": true
   },
   "outputs": [
    {
     "name": "stdout",
     "output_type": "stream",
     "text": [
      "[Parameter containing:\n",
      " 1.1564\n",
      " 1.1946\n",
      " 1.2155\n",
      " 1.2301\n",
      " 1.1949\n",
      " 1.1656\n",
      " 1.0361\n",
      " 0.9131\n",
      " 0.9393\n",
      " 0.9719\n",
      " 0.9978\n",
      " 1.0002\n",
      " 1.0410\n",
      " 1.0243\n",
      " 1.0171\n",
      " 1.0128\n",
      " 1.0413\n",
      " 1.0260\n",
      " 0.9991\n",
      " 0.9985\n",
      " 0.9780\n",
      " 1.0474\n",
      " 1.0799\n",
      " 1.1447\n",
      "[torch.FloatTensor of size 24]\n",
      ", Parameter containing:\n",
      " 0.8803\n",
      " 0.8912\n",
      " 0.9048\n",
      " 0.9249\n",
      " 0.9114\n",
      " 0.8845\n",
      " 0.8684\n",
      " 0.8656\n",
      " 0.8686\n",
      " 0.8627\n",
      " 0.8611\n",
      " 0.8664\n",
      " 0.8680\n",
      " 0.8664\n",
      " 0.8687\n",
      " 0.8645\n",
      " 0.8684\n",
      " 0.8674\n",
      " 0.8663\n",
      " 0.8424\n",
      " 0.8621\n",
      " 0.8610\n",
      " 0.8689\n",
      " 0.8723\n",
      "[torch.FloatTensor of size 24]\n",
      "]\n"
     ]
    }
   ],
   "source": [
    "print(list(net.parameters()))"
   ]
  },
  {
   "cell_type": "code",
   "execution_count": 10,
   "metadata": {
    "collapsed": true
   },
   "outputs": [],
   "source": [
    "def submit(name):\n",
    "    url = 'http://interiit.tech:3000/upload'\n",
    "    files = {'file': (name, open(name, 'rb'), '.text/csv', {'Content-Disposition': 'form-data'})}\n",
    "    headers = {'Host': 'interiit.tech:3000', 'User-Agent': 'Mozilla/5.0 (X11; Ubuntu; Linux x86_64; rv:58.0) Gecko/20100101 Firefox/58.0',\\\n",
    "               'Accept': 'application/json, text/plain, */*', 'Accept-Language': 'en-US,en;q=0.5', 'Accept-Encoding': 'gzip, deflate',\\\n",
    "               'Referer': 'http://interiit.tech:3000/', 'Origin':'http://interiit.tech:3000'}\n",
    "    r = requests.post(url, files=files, headers=headers)\n",
    "    \n",
    "def score(team_id):\n",
    "    return pd.read_csv('http://interiit.tech:3000/results.csv').loc[team_id]['Score']"
   ]
  },
  {
   "cell_type": "code",
   "execution_count": 11,
   "metadata": {},
   "outputs": [
    {
     "data": {
      "text/plain": [
       "320343"
      ]
     },
     "execution_count": 11,
     "metadata": {},
     "output_type": "execute_result"
    }
   ],
   "source": [
    "bid_quantity = ((demand_pub_oracle - solar_pub_oracle).values * net.state_dict()['w1'].numpy()).flatten()\n",
    "bid_price = (price_pub_oracle.values * net.state_dict()['w2'].numpy()).flatten()\n",
    "submission = pd.DataFrame([bid_price, bid_quantity])\n",
    "submission.T.to_csv('23.csv', header=None, index=None)\n",
    "score(23)"
   ]
  }
 ],
 "metadata": {
  "kernelspec": {
   "display_name": "Python 3",
   "language": "python",
   "name": "python3"
  },
  "language_info": {
   "codemirror_mode": {
    "name": "ipython",
    "version": 3
   },
   "file_extension": ".py",
   "mimetype": "text/x-python",
   "name": "python",
   "nbconvert_exporter": "python",
   "pygments_lexer": "ipython3",
   "version": "3.6.0"
  }
 },
 "nbformat": 4,
 "nbformat_minor": 2
}
