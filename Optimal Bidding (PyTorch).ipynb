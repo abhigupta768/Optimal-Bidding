{
 "cells": [
  {
   "cell_type": "code",
   "execution_count": 1,
   "metadata": {
    "collapsed": true
   },
   "outputs": [],
   "source": [
    "import torch\n",
    "import pandas as pd\n",
    "import torch.optim as optim\n",
    "import requests\n",
    "from torch.nn import Parameter\n",
    "from torch.autograd import Variable\n",
    "import torch.nn as nn\n",
    "import torch.nn.functional as F"
   ]
  },
  {
   "cell_type": "code",
   "execution_count": 2,
   "metadata": {
    "collapsed": true
   },
   "outputs": [],
   "source": [
    "class Net(nn.Module):\n",
    "    def __init__(self):\n",
    "        super(Net, self).__init__()\n",
    "        self.w1 = Parameter(torch.ones(24) * 0.98) \n",
    "        self.w2 = Parameter(torch.ones(24) * 1.18)\n",
    "\n",
    "    def forward(self, oracle_demand, oracle_solar, oracle_price):\n",
    "        bid_demand = (oracle_demand - oracle_solar) * self.w1\n",
    "        bid_price = oracle_price * self.w2\n",
    "        bid_price.data.clamp_(max=7)\n",
    "        return bid_demand, bid_price"
   ]
  },
  {
   "cell_type": "code",
   "execution_count": 3,
   "metadata": {
    "collapsed": true
   },
   "outputs": [],
   "source": [
    "demand_train_oracle = pd.read_csv('./Data/Demand_Train_pred.csv', header=None)\n",
    "demand_train_actual = pd.read_csv('./Data/Demand_Train.csv', header=None)\n",
    "solar_train_oracle = pd.read_csv('./Data/Solar_Train_pred.csv', header=None)\n",
    "solar_train_actual = pd.read_csv('./Data/Solar_Train.csv', header=None)\n",
    "price_train_oracle = pd.read_csv('./Data/Price_Train_pred.csv', header=None)\n",
    "price_train_actual = pd.read_csv('./Data/Price_Train.csv', header=None)"
   ]
  },
  {
   "cell_type": "code",
   "execution_count": 4,
   "metadata": {
    "collapsed": true
   },
   "outputs": [],
   "source": [
    "def cost(bid_quantities, bid_prices, demands, solar_outputs, prices):\n",
    "    BATTERY_CAPACITY = 25\n",
    "    BATTERY_CAPACITY_PER_HOUR = 5\n",
    "    BATTERY_EFFICIENCY = 0.8\n",
    "    DISCOM_RATE = 7\n",
    "    battery = Variable(torch.Tensor([0]))\n",
    "    cost = Variable(torch.Tensor([0]))\n",
    "    result = []\n",
    "    for bid_quantity, bid_price, demand, solar_output, price in zip(bid_quantities.contiguous().view(-1), bid_prices.contiguous().view(-1), demands.contiguous().view(-1), solar_outputs.contiguous().view(-1), prices.contiguous().view(-1)):\n",
    "        energy_from_sun = torch.min(solar_output, demand)\n",
    "        bid_won = bid_price > price\n",
    "        energy_from_market = bid_won.float() * bid_quantity\n",
    "        energy_from_battery = torch.min(torch.clamp((demand - energy_from_sun - energy_from_market) / BATTERY_EFFICIENCY, min=0),\n",
    "                                        torch.clamp(battery, max=BATTERY_CAPACITY_PER_HOUR)) * BATTERY_EFFICIENCY\n",
    "        energy_from_DISCOM = torch.clamp(demand - energy_from_sun - energy_from_market - energy_from_battery, min=0)\n",
    "        \n",
    "        residual_energy = torch.clamp(energy_from_market + energy_from_sun - demand, min=0)\n",
    "        battery = battery + torch.clamp(residual_energy, max=BATTERY_CAPACITY_PER_HOUR) - energy_from_battery / BATTERY_EFFICIENCY\n",
    "        battery = torch.clamp(battery, min=0, max=BATTERY_CAPACITY)\n",
    "        \n",
    "        cost += energy_from_market * bid_price + energy_from_DISCOM * DISCOM_RATE\n",
    "    return cost"
   ]
  },
  {
   "cell_type": "code",
   "execution_count": 5,
   "metadata": {
    "collapsed": true
   },
   "outputs": [],
   "source": [
    "net = Net()"
   ]
  },
  {
   "cell_type": "code",
   "execution_count": 6,
   "metadata": {
    "collapsed": true
   },
   "outputs": [],
   "source": [
    "data_size = demand_train_actual.values.shape[0]\n",
    "epochs = 100\n",
    "batch_size = 5\n",
    "learning_rate = 10 ** (-10)"
   ]
  },
  {
   "cell_type": "code",
   "execution_count": 7,
   "metadata": {
    "scrolled": true
   },
   "outputs": [
    {
     "name": "stdout",
     "output_type": "stream",
     "text": [
      "31957.687174479168\n",
      "31957.019520399306\n",
      "31956.352235243055\n",
      "31955.685199652777\n",
      "31955.017740885418\n",
      "31954.350944010417\n",
      "31953.683919270832\n",
      "31953.01675347222\n",
      "31952.34997829861\n",
      "31951.683235677083\n",
      "31951.015418836807\n",
      "31950.349576822915\n",
      "31949.682964409723\n",
      "31949.016200086804\n",
      "31948.349370659722\n",
      "31947.682107204862\n",
      "31947.01589626736\n",
      "31946.349088541665\n",
      "31945.6818359375\n",
      "31945.015158420138\n",
      "31944.350499131946\n",
      "31943.683246527777\n",
      "31943.0166015625\n",
      "31942.350238715277\n",
      "31941.684592013888\n",
      "31941.017296006943\n",
      "31940.352289496528\n",
      "31939.686512586806\n",
      "31939.01986762153\n",
      "31938.353797743057\n",
      "31937.687337239582\n",
      "31937.020323350695\n",
      "31936.354676649305\n",
      "31935.6875\n",
      "31935.021744791666\n",
      "31934.35615234375\n",
      "31933.689995659723\n",
      "31933.023046875\n",
      "31932.357074652777\n",
      "31931.691688368057\n",
      "31931.024555121527\n",
      "31930.359385850694\n",
      "31929.693543836805\n",
      "31929.026453993054\n",
      "31928.361241319446\n",
      "31927.69497612847\n",
      "31927.028949652777\n",
      "31926.363248697915\n",
      "31925.697319878473\n",
      "31925.03146701389\n",
      "31924.36535373264\n",
      "31923.699837239583\n",
      "31923.034635416665\n",
      "31922.369618055556\n",
      "31921.704210069445\n",
      "31921.038194444445\n",
      "31920.37277560764\n",
      "31919.707161458333\n",
      "31919.041970486112\n",
      "31918.376410590277\n",
      "31917.71162109375\n",
      "31917.04626736111\n",
      "31920.425499131943\n",
      "31919.75947265625\n",
      "31919.095128038196\n",
      "31918.42941623264\n",
      "31917.76384548611\n",
      "31919.08230251736\n",
      "31918.4177734375\n",
      "31917.752495659723\n",
      "31917.08732638889\n",
      "31916.422981770833\n",
      "31915.757725694446\n",
      "31915.09308810764\n",
      "31914.42814670139\n",
      "31913.763541666667\n",
      "31913.097938368057\n",
      "31912.43325737847\n",
      "31911.769097222223\n",
      "31911.104144965277\n",
      "31911.025043402777\n",
      "31910.360611979166\n",
      "31909.69535590278\n",
      "31909.03097873264\n",
      "31911.428016493057\n",
      "31910.76349826389\n",
      "31910.09841579861\n",
      "31909.433734809027\n",
      "31908.76960720486\n",
      "31908.105164930555\n",
      "31908.3107421875\n",
      "31907.645486111112\n",
      "31906.98246527778\n",
      "31906.318522135418\n",
      "31905.65349392361\n",
      "31904.98974609375\n",
      "31907.456163194445\n",
      "31906.793229166666\n",
      "31906.90652126736\n",
      "31906.24259982639\n"
     ]
    }
   ],
   "source": [
    "for _ in range(epochs):\n",
    "    start = 0\n",
    "    end = batch_size\n",
    "    epoch_loss = 0\n",
    "    while end <= data_size:\n",
    "        net.zero_grad()\n",
    "        bid_quantities, bid_prices = net(Variable(torch.Tensor(demand_train_oracle.values[start:end])), \n",
    "                              Variable(torch.Tensor(solar_train_oracle.values[start:end])), \n",
    "                              Variable(torch.Tensor(price_train_oracle.values[start:end])))\n",
    "        loss = cost(bid_quantities, bid_prices,\n",
    "             Variable(torch.Tensor(demand_train_actual.values[start:end])),\n",
    "             Variable(torch.Tensor(solar_train_actual.values[start:end])),\n",
    "             Variable(torch.Tensor(price_train_actual.values[start:end])))\n",
    "        loss.backward()\n",
    "        for f in net.parameters():\n",
    "            f.data.sub_(f.grad.data * learning_rate)\n",
    "            f.data.clamp_(min=0.5, max=2)\n",
    "        epoch_loss += loss.data[0]\n",
    "        \n",
    "        start += batch_size\n",
    "        end += batch_size\n",
    "    print(epoch_loss * batch_size / data_size)"
   ]
  },
  {
   "cell_type": "code",
   "execution_count": 8,
   "metadata": {
    "collapsed": true
   },
   "outputs": [],
   "source": [
    "demand_pub_oracle = pd.read_csv('./Data/Demand_LB_pred.csv', header=None)\n",
    "solar_pub_oracle = pd.read_csv('./Data/Solar_LB_pred.csv', header=None)\n",
    "price_pub_oracle = pd.read_csv('./Data/Price_LB_pred.csv', header=None)"
   ]
  },
  {
   "cell_type": "code",
   "execution_count": 9,
   "metadata": {
    "scrolled": true
   },
   "outputs": [
    {
     "name": "stdout",
     "output_type": "stream",
     "text": [
      "[Parameter containing:\n",
      " 0.9810\n",
      " 0.9810\n",
      " 0.9810\n",
      " 0.9809\n",
      " 0.9808\n",
      " 0.9807\n",
      " 0.9804\n",
      " 0.9793\n",
      " 0.9793\n",
      " 0.9797\n",
      " 0.9798\n",
      " 0.9801\n",
      " 0.9802\n",
      " 0.9804\n",
      " 0.9803\n",
      " 0.9804\n",
      " 0.9803\n",
      " 0.9804\n",
      " 0.9803\n",
      " 0.9808\n",
      " 0.9807\n",
      " 0.9810\n",
      " 0.9816\n",
      " 0.9815\n",
      "[torch.FloatTensor of size 24]\n",
      ", Parameter containing:\n",
      " 1.1798\n",
      " 1.1799\n",
      " 1.1800\n",
      " 1.1800\n",
      " 1.1800\n",
      " 1.1799\n",
      " 1.1781\n",
      " 1.1765\n",
      " 1.1767\n",
      " 1.1776\n",
      " 1.1777\n",
      " 1.1778\n",
      " 1.1779\n",
      " 1.1781\n",
      " 1.1783\n",
      " 1.1785\n",
      " 1.1785\n",
      " 1.1779\n",
      " 1.1770\n",
      " 1.1767\n",
      " 1.1763\n",
      " 1.1769\n",
      " 1.1779\n",
      " 1.1795\n",
      "[torch.FloatTensor of size 24]\n",
      "]\n"
     ]
    }
   ],
   "source": [
    "print(list(net.parameters()))"
   ]
  },
  {
   "cell_type": "code",
   "execution_count": 10,
   "metadata": {
    "collapsed": true
   },
   "outputs": [],
   "source": [
    "def submit(name):\n",
    "    url = 'http://interiit.tech:3000/upload'\n",
    "    files = {'file': (name, open(name, 'rb'), '.text/csv', {'Content-Disposition': 'form-data'})}\n",
    "    headers = {'Host': 'interiit.tech:3000', 'User-Agent': 'Mozilla/5.0 (X11; Ubuntu; Linux x86_64; rv:58.0) Gecko/20100101 Firefox/58.0',\\\n",
    "               'Accept': 'application/json, text/plain, */*', 'Accept-Language': 'en-US,en;q=0.5', 'Accept-Encoding': 'gzip, deflate',\\\n",
    "               'Referer': 'http://interiit.tech:3000/', 'Origin':'http://interiit.tech:3000'}\n",
    "    r = requests.post(url, files=files, headers=headers)\n",
    "    \n",
    "def score(team_id):\n",
    "    return pd.read_csv('http://interiit.tech:3000/results.csv').loc[team_id]['Score']"
   ]
  },
  {
   "cell_type": "code",
   "execution_count": 11,
   "metadata": {},
   "outputs": [
    {
     "data": {
      "text/plain": [
       "319996"
      ]
     },
     "execution_count": 11,
     "metadata": {},
     "output_type": "execute_result"
    }
   ],
   "source": [
    "bid_quantity = ((demand_pub_oracle - solar_pub_oracle).values * net.state_dict()['w1'].numpy()).flatten()\n",
    "bid_price = (price_pub_oracle.values * net.state_dict()['w2'].numpy()).flatten()\n",
    "submission = pd.DataFrame([bid_price, bid_quantity])\n",
    "submission.T.to_csv('23.csv', header=None, index=None)\n",
    "submit('23.csv')\n",
    "score(23)"
   ]
  }
 ],
 "metadata": {
  "kernelspec": {
   "display_name": "Python 3",
   "language": "python",
   "name": "python3"
  },
  "language_info": {
   "codemirror_mode": {
    "name": "ipython",
    "version": 3
   },
   "file_extension": ".py",
   "mimetype": "text/x-python",
   "name": "python",
   "nbconvert_exporter": "python",
   "pygments_lexer": "ipython3",
   "version": "3.6.0"
  }
 },
 "nbformat": 4,
 "nbformat_minor": 2
}
