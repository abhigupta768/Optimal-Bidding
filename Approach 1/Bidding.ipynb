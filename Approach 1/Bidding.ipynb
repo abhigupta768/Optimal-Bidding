{
 "cells": [
  {
   "cell_type": "markdown",
   "metadata": {},
   "source": [
    "# Loading libraries"
   ]
  },
  {
   "cell_type": "code",
   "execution_count": 1,
   "metadata": {},
   "outputs": [
    {
     "name": "stderr",
     "output_type": "stream",
     "text": [
      "/home/abhishek/anaconda3/lib/python3.6/site-packages/statsmodels/compat/pandas.py:56: FutureWarning: The pandas.core.datetools module is deprecated and will be removed in a future version. Please use the pandas.tseries module instead.\n",
      "  from pandas.core import datetools\n"
     ]
    }
   ],
   "source": [
    "%matplotlib inline\n",
    "import matplotlib.pyplot as plt\n",
    "import numpy as np\n",
    "import pandas as pd\n",
    "import requests\n",
    "from statsmodels.tsa.statespace.sarimax import SARIMAX\n",
    "from statsmodels.tsa.arima_model import ARIMA\n",
    "from statsmodels.graphics.tsaplots import plot_acf, plot_pacf\n",
    "from statsmodels.tsa.seasonal import seasonal_decompose\n",
    "from statsmodels.tsa.stattools import acf, adfuller, pacf"
   ]
  },
  {
   "cell_type": "markdown",
   "metadata": {},
   "source": [
    "# Predicting"
   ]
  },
  {
   "cell_type": "markdown",
   "metadata": {},
   "source": [
    "## Demand"
   ]
  },
  {
   "cell_type": "code",
   "execution_count": 2,
   "metadata": {
    "collapsed": true
   },
   "outputs": [],
   "source": [
    "demand_train_actual = pd.read_csv('./Data/Demand_Train.csv', header=None)\n",
    "demand_train_oracle = pd.read_csv('./Data/Demand_Train_pred.csv', header=None)\n",
    "demand_plb_oracle = pd.read_csv('./Data/Demand_LB_pred.csv', header=None)"
   ]
  },
  {
   "cell_type": "markdown",
   "metadata": {},
   "source": [
    "While prediction demand, we observed that we couldn't do better than the oracle. Therefore, our prediction for energy demand will be the oracle's prediction."
   ]
  },
  {
   "cell_type": "code",
   "execution_count": 3,
   "metadata": {
    "collapsed": true
   },
   "outputs": [],
   "source": [
    "demand_plb_pred = demand_plb_oracle"
   ]
  },
  {
   "cell_type": "markdown",
   "metadata": {},
   "source": [
    "## Solar output"
   ]
  },
  {
   "cell_type": "code",
   "execution_count": 4,
   "metadata": {
    "collapsed": true
   },
   "outputs": [],
   "source": [
    "solar_train_actual = pd.read_csv('./Data/Solar_Train.csv', header=None)\n",
    "solar_train_oracle = pd.read_csv('./Data/Solar_Train_pred.csv', header=None)"
   ]
  },
  {
   "cell_type": "code",
   "execution_count": 5,
   "metadata": {
    "collapsed": true
   },
   "outputs": [],
   "source": [
    "series = solar_train_actual.values.flatten()\n",
    "series = pd.Series(series).diff(24*365).dropna()"
   ]
  },
  {
   "cell_type": "code",
   "execution_count": 6,
   "metadata": {},
   "outputs": [
    {
     "name": "stderr",
     "output_type": "stream",
     "text": [
      "/home/abhishek/anaconda3/lib/python3.6/site-packages/statsmodels/base/model.py:496: ConvergenceWarning: Maximum Likelihood optimization failed to converge. Check mle_retvals\n",
      "  \"Check mle_retvals\", ConvergenceWarning)\n"
     ]
    },
    {
     "name": "stdout",
     "output_type": "stream",
     "text": [
      "                              ARMA Model Results                              \n",
      "==============================================================================\n",
      "Dep. Variable:                      y   No. Observations:                12840\n",
      "Model:                     ARMA(2, 5)   Log Likelihood               -6061.807\n",
      "Method:                       css-mle   S.D. of innovations              0.388\n",
      "Date:                Thu, 11 Jan 2018   AIC                          12141.613\n",
      "Time:                        19:13:17   BIC                          12208.756\n",
      "Sample:                             0   HQIC                         12164.061\n",
      "                                                                              \n",
      "==============================================================================\n",
      "                 coef    std err          z      P>|z|      [0.025      0.975]\n",
      "------------------------------------------------------------------------------\n",
      "const         -0.3524      0.005    -73.573      0.000      -0.362      -0.343\n",
      "ar.L1.y        1.9318   2.99e-05   6.45e+04      0.000       1.932       1.932\n",
      "ar.L2.y       -1.0000   2.35e-05  -4.26e+04      0.000      -1.000      -1.000\n",
      "ma.L1.y       -1.7210      0.009   -196.287      0.000      -1.738      -1.704\n",
      "ma.L2.y        0.7408      0.017     42.452      0.000       0.707       0.775\n",
      "ma.L3.y       -0.0045      0.018     -0.244      0.807      -0.040       0.031\n",
      "ma.L4.y        0.0127      0.018      0.714      0.475      -0.022       0.048\n",
      "ma.L5.y        0.0673      0.009      7.394      0.000       0.049       0.085\n",
      "                                    Roots                                    \n",
      "=============================================================================\n",
      "                 Real           Imaginary           Modulus         Frequency\n",
      "-----------------------------------------------------------------------------\n",
      "AR.1            0.9659           -0.2588j            1.0000           -0.0417\n",
      "AR.2            0.9659           +0.2588j            1.0000            0.0417\n",
      "MA.1            0.9689           -0.2582j            1.0027           -0.0414\n",
      "MA.2            0.9689           +0.2582j            1.0027            0.0414\n",
      "MA.3            0.3686           -2.2417j            2.2718           -0.2241\n",
      "MA.4            0.3686           +2.2417j            2.2718            0.2241\n",
      "MA.5           -2.8641           -0.0000j            2.8641           -0.5000\n",
      "-----------------------------------------------------------------------------\n"
     ]
    }
   ],
   "source": [
    "model = ARIMA(series.values, order=(2, 0, 5))\n",
    "model_fit = model.fit(trend='c')\n",
    "print(model_fit.summary())"
   ]
  },
  {
   "cell_type": "code",
   "execution_count": 7,
   "metadata": {
    "collapsed": true
   },
   "outputs": [],
   "source": [
    "solar_val_pred = model_fit.predict(start=len(series.values), end=len(series.values) + 24*50 - 1) + solar_train_actual.values.flatten()[-365*24 : -365*24 + 50*24]\n",
    "solar_val_pred = solar_val_pred.reshape((50, 24))"
   ]
  },
  {
   "cell_type": "markdown",
   "metadata": {},
   "source": [
    "# Market price"
   ]
  },
  {
   "cell_type": "code",
   "execution_count": 8,
   "metadata": {
    "collapsed": true
   },
   "outputs": [],
   "source": [
    "price_train_actual = pd.read_csv('./Data/Price_Train.csv', header=None)\n",
    "price_train_oracle = pd.read_csv('./Data/Price_Train_pred.csv', header=None)"
   ]
  },
  {
   "cell_type": "markdown",
   "metadata": {},
   "source": [
    "* In the training set's actual market price data, we first find the days with minimum market price for **HOUR 1** and denote them by **DAY 1**.\n",
    "* Now for **DAY 1** to **DAY 31** we find the average market price for each hour.\n",
    "\n",
    "\n",
    "\n",
    "* In test set's oracle's predicted market price data, we find the corresponding **DAY 1** by finding the day with minimum market price for **HOUR 1**.\n",
    "* The predicted market price for the following days will be the average market price."
   ]
  },
  {
   "cell_type": "markdown",
   "metadata": {},
   "source": [
    "### Determining DAY 1 in actual data"
   ]
  },
  {
   "cell_type": "code",
   "execution_count": 9,
   "metadata": {
    "collapsed": true,
    "scrolled": true
   },
   "outputs": [],
   "source": [
    "day1_train_actual = list(price_train_actual[0][price_train_actual[0] < 0.8].index)"
   ]
  },
  {
   "cell_type": "code",
   "execution_count": 10,
   "metadata": {},
   "outputs": [
    {
     "name": "stdout",
     "output_type": "stream",
     "text": [
      "[15, 46, 74, 105, 135, 166, 196, 227, 258, 288, 318, 348, 379, 410, 438, 469, 499, 530, 560, 591, 622, 652, 682, 712, 743, 774, 802, 833, 863, 894]\n"
     ]
    }
   ],
   "source": [
    "print(day1_train_actual)"
   ]
  },
  {
   "cell_type": "code",
   "execution_count": 11,
   "metadata": {
    "scrolled": true
   },
   "outputs": [
    {
     "data": {
      "text/plain": [
       "array([ 31.,  28.,  31.,  30.,  31.,  30.,  31.,  31.,  30.,  30.,  30.,\n",
       "        31.,  31.,  28.,  31.,  30.,  31.,  30.,  31.,  31.,  30.,  30.,\n",
       "        30.,  31.,  31.,  28.,  31.,  30.,  31.])"
      ]
     },
     "execution_count": 11,
     "metadata": {},
     "output_type": "execute_result"
    }
   ],
   "source": [
    "pd.Series((day1_train_actual)).diff().dropna().values"
   ]
  },
  {
   "cell_type": "markdown",
   "metadata": {},
   "source": [
    "### Calculating average prices for DAY 1-31"
   ]
  },
  {
   "cell_type": "code",
   "execution_count": 12,
   "metadata": {
    "collapsed": true
   },
   "outputs": [],
   "source": [
    "average_price = []\n",
    "for hour in range(24):\n",
    "    number_occurence = np.zeros(31)\n",
    "    sum_day = np.zeros(31)\n",
    "    for i, j in zip(np.array(day1_train_actual)[:-1], (np.array(day1_train_actual))[1:]):\n",
    "        sum_day[:j - i] += price_train_actual[hour][i:j].values\n",
    "        number_occurence[:j - i] += np.ones(j - i)\n",
    "    average_price.append(sum_day / number_occurence)"
   ]
  },
  {
   "cell_type": "code",
   "execution_count": 13,
   "metadata": {},
   "outputs": [
    {
     "data": {
      "text/html": [
       "<div>\n",
       "<style>\n",
       "    .dataframe thead tr:only-child th {\n",
       "        text-align: right;\n",
       "    }\n",
       "\n",
       "    .dataframe thead th {\n",
       "        text-align: left;\n",
       "    }\n",
       "\n",
       "    .dataframe tbody tr th {\n",
       "        vertical-align: top;\n",
       "    }\n",
       "</style>\n",
       "<table border=\"1\" class=\"dataframe\">\n",
       "  <thead>\n",
       "    <tr style=\"text-align: right;\">\n",
       "      <th></th>\n",
       "      <th>0</th>\n",
       "      <th>1</th>\n",
       "      <th>2</th>\n",
       "      <th>3</th>\n",
       "      <th>4</th>\n",
       "      <th>5</th>\n",
       "      <th>6</th>\n",
       "      <th>7</th>\n",
       "      <th>8</th>\n",
       "      <th>9</th>\n",
       "      <th>...</th>\n",
       "      <th>21</th>\n",
       "      <th>22</th>\n",
       "      <th>23</th>\n",
       "      <th>24</th>\n",
       "      <th>25</th>\n",
       "      <th>26</th>\n",
       "      <th>27</th>\n",
       "      <th>28</th>\n",
       "      <th>29</th>\n",
       "      <th>30</th>\n",
       "    </tr>\n",
       "  </thead>\n",
       "  <tbody>\n",
       "    <tr>\n",
       "      <th>0</th>\n",
       "      <td>0.747586</td>\n",
       "      <td>1.712759</td>\n",
       "      <td>1.311379</td>\n",
       "      <td>1.313793</td>\n",
       "      <td>1.362414</td>\n",
       "      <td>1.288621</td>\n",
       "      <td>1.205862</td>\n",
       "      <td>1.797241</td>\n",
       "      <td>1.354483</td>\n",
       "      <td>1.743103</td>\n",
       "      <td>...</td>\n",
       "      <td>2.178276</td>\n",
       "      <td>2.108966</td>\n",
       "      <td>2.168276</td>\n",
       "      <td>2.069310</td>\n",
       "      <td>2.021724</td>\n",
       "      <td>1.990000</td>\n",
       "      <td>1.912414</td>\n",
       "      <td>1.819615</td>\n",
       "      <td>1.781154</td>\n",
       "      <td>1.705333</td>\n",
       "    </tr>\n",
       "    <tr>\n",
       "      <th>1</th>\n",
       "      <td>0.529655</td>\n",
       "      <td>1.638621</td>\n",
       "      <td>1.314828</td>\n",
       "      <td>1.309655</td>\n",
       "      <td>1.199655</td>\n",
       "      <td>1.171034</td>\n",
       "      <td>1.182759</td>\n",
       "      <td>1.736897</td>\n",
       "      <td>1.356552</td>\n",
       "      <td>1.692069</td>\n",
       "      <td>...</td>\n",
       "      <td>2.191034</td>\n",
       "      <td>2.111379</td>\n",
       "      <td>2.240345</td>\n",
       "      <td>2.063793</td>\n",
       "      <td>1.960000</td>\n",
       "      <td>1.982069</td>\n",
       "      <td>1.958966</td>\n",
       "      <td>1.845769</td>\n",
       "      <td>1.728462</td>\n",
       "      <td>1.711333</td>\n",
       "    </tr>\n",
       "    <tr>\n",
       "      <th>2</th>\n",
       "      <td>0.502759</td>\n",
       "      <td>1.208621</td>\n",
       "      <td>1.322759</td>\n",
       "      <td>1.316207</td>\n",
       "      <td>1.201724</td>\n",
       "      <td>1.088966</td>\n",
       "      <td>1.095172</td>\n",
       "      <td>1.684138</td>\n",
       "      <td>1.355172</td>\n",
       "      <td>1.571724</td>\n",
       "      <td>...</td>\n",
       "      <td>2.126552</td>\n",
       "      <td>2.033448</td>\n",
       "      <td>2.214138</td>\n",
       "      <td>2.008276</td>\n",
       "      <td>1.905517</td>\n",
       "      <td>1.981724</td>\n",
       "      <td>1.929310</td>\n",
       "      <td>1.801154</td>\n",
       "      <td>1.661923</td>\n",
       "      <td>1.661333</td>\n",
       "    </tr>\n",
       "    <tr>\n",
       "      <th>3</th>\n",
       "      <td>0.527586</td>\n",
       "      <td>1.010345</td>\n",
       "      <td>1.308966</td>\n",
       "      <td>1.312759</td>\n",
       "      <td>1.366897</td>\n",
       "      <td>1.153448</td>\n",
       "      <td>0.982414</td>\n",
       "      <td>1.717931</td>\n",
       "      <td>1.353103</td>\n",
       "      <td>1.358966</td>\n",
       "      <td>...</td>\n",
       "      <td>2.121379</td>\n",
       "      <td>2.031034</td>\n",
       "      <td>2.209655</td>\n",
       "      <td>1.964828</td>\n",
       "      <td>1.847586</td>\n",
       "      <td>1.975862</td>\n",
       "      <td>1.898276</td>\n",
       "      <td>1.733846</td>\n",
       "      <td>1.621923</td>\n",
       "      <td>1.599333</td>\n",
       "    </tr>\n",
       "    <tr>\n",
       "      <th>4</th>\n",
       "      <td>0.646897</td>\n",
       "      <td>1.667241</td>\n",
       "      <td>1.432414</td>\n",
       "      <td>1.315172</td>\n",
       "      <td>1.508621</td>\n",
       "      <td>1.472414</td>\n",
       "      <td>1.472069</td>\n",
       "      <td>1.774828</td>\n",
       "      <td>1.384483</td>\n",
       "      <td>1.757241</td>\n",
       "      <td>...</td>\n",
       "      <td>2.000345</td>\n",
       "      <td>1.868966</td>\n",
       "      <td>2.210000</td>\n",
       "      <td>2.072414</td>\n",
       "      <td>1.906552</td>\n",
       "      <td>2.225862</td>\n",
       "      <td>2.223448</td>\n",
       "      <td>1.751538</td>\n",
       "      <td>1.680769</td>\n",
       "      <td>1.662667</td>\n",
       "    </tr>\n",
       "  </tbody>\n",
       "</table>\n",
       "<p>5 rows × 31 columns</p>\n",
       "</div>"
      ],
      "text/plain": [
       "         0         1         2         3         4         5         6   \\\n",
       "0  0.747586  1.712759  1.311379  1.313793  1.362414  1.288621  1.205862   \n",
       "1  0.529655  1.638621  1.314828  1.309655  1.199655  1.171034  1.182759   \n",
       "2  0.502759  1.208621  1.322759  1.316207  1.201724  1.088966  1.095172   \n",
       "3  0.527586  1.010345  1.308966  1.312759  1.366897  1.153448  0.982414   \n",
       "4  0.646897  1.667241  1.432414  1.315172  1.508621  1.472414  1.472069   \n",
       "\n",
       "         7         8         9     ...           21        22        23  \\\n",
       "0  1.797241  1.354483  1.743103    ...     2.178276  2.108966  2.168276   \n",
       "1  1.736897  1.356552  1.692069    ...     2.191034  2.111379  2.240345   \n",
       "2  1.684138  1.355172  1.571724    ...     2.126552  2.033448  2.214138   \n",
       "3  1.717931  1.353103  1.358966    ...     2.121379  2.031034  2.209655   \n",
       "4  1.774828  1.384483  1.757241    ...     2.000345  1.868966  2.210000   \n",
       "\n",
       "         24        25        26        27        28        29        30  \n",
       "0  2.069310  2.021724  1.990000  1.912414  1.819615  1.781154  1.705333  \n",
       "1  2.063793  1.960000  1.982069  1.958966  1.845769  1.728462  1.711333  \n",
       "2  2.008276  1.905517  1.981724  1.929310  1.801154  1.661923  1.661333  \n",
       "3  1.964828  1.847586  1.975862  1.898276  1.733846  1.621923  1.599333  \n",
       "4  2.072414  1.906552  2.225862  2.223448  1.751538  1.680769  1.662667  \n",
       "\n",
       "[5 rows x 31 columns]"
      ]
     },
     "execution_count": 13,
     "metadata": {},
     "output_type": "execute_result"
    }
   ],
   "source": [
    "average_price = pd.DataFrame(np.array(average_price))\n",
    "average_price.head()"
   ]
  },
  {
   "cell_type": "markdown",
   "metadata": {},
   "source": [
    "### Determining DAY 1 in oracle's prediction"
   ]
  },
  {
   "cell_type": "code",
   "execution_count": 14,
   "metadata": {
    "collapsed": true
   },
   "outputs": [],
   "source": [
    "price_plb_oracle = pd.read_csv('./Data/Price_LB_pred.csv', header=None)"
   ]
  },
  {
   "cell_type": "code",
   "execution_count": 15,
   "metadata": {},
   "outputs": [
    {
     "name": "stdout",
     "output_type": "stream",
     "text": [
      "[16, 46]\n"
     ]
    }
   ],
   "source": [
    "day1_plb_oracle = list(price_plb_oracle[0][price_plb_oracle[0] < 0.9].index)\n",
    "print(day1_plb_oracle)"
   ]
  },
  {
   "cell_type": "markdown",
   "metadata": {},
   "source": [
    "### Manually formulating prediction"
   ]
  },
  {
   "cell_type": "code",
   "execution_count": 16,
   "metadata": {
    "collapsed": true
   },
   "outputs": [],
   "source": [
    "price_plb_pred = pd.concat([average_price[list(range(31))[-1 * day1_plb_oracle[0]:]], average_price[list(range(31))[:day1_plb_oracle[1]-day1_plb_oracle[0]]], average_price[list(range(31))[:50-day1_plb_oracle[1]]]], axis=1)\n",
    "price_plb_pred.columns = np.arange(50)\n",
    "price_plb_pred = price_plb_pred.T"
   ]
  },
  {
   "cell_type": "markdown",
   "metadata": {},
   "source": [
    "# Generating Bid quantity and price"
   ]
  },
  {
   "cell_type": "code",
   "execution_count": 17,
   "metadata": {
    "collapsed": true
   },
   "outputs": [],
   "source": [
    "price_train_actual = pd.read_csv('./Data/Price_Train.csv', header=None)\n",
    "price_train_oracle = pd.read_csv('./Data/Price_Train_pred.csv', header=None)"
   ]
  },
  {
   "cell_type": "markdown",
   "metadata": {},
   "source": [
    "We find the error in the oracle's prediction for market prices when the bid was lost in the 50 correspoding days of last two years. We add its some statistic to our predicted value, so that we don't lose any bid."
   ]
  },
  {
   "cell_type": "code",
   "execution_count": 18,
   "metadata": {},
   "outputs": [
    {
     "data": {
      "text/plain": [
       "array([[ 0.19875,  0.21   ,  0.16625,  0.18625,  0.19125,  0.2525 ,\n",
       "         0.37625,  0.48625,  0.5025 ,  0.5525 ,  0.38125,  0.3975 ,\n",
       "         0.37875,  0.33   ,  0.355  ,  0.315  ,  0.34625,  0.37   ,\n",
       "         0.35   ,  0.355  ,  0.34   ,  0.31875,  0.2425 ,  0.1325 ]])"
      ]
     },
     "execution_count": 18,
     "metadata": {},
     "output_type": "execute_result"
    }
   ],
   "source": [
    "error_1_back = price_train_actual[-365:-365 + 50] - price_train_oracle[-365:-365 + 50]\n",
    "error_2_back = price_train_actual[-365*2:-365*2 + 50] - price_train_oracle[-365*2:-365*2 + 50]\n",
    "error_statistic = (error_1_back[error_1_back > 0].describe().loc['75%'] + error_2_back[error_2_back > 0].describe().loc[['75%']]) / 2\n",
    "error_statistic.values"
   ]
  },
  {
   "cell_type": "code",
   "execution_count": 19,
   "metadata": {
    "collapsed": true
   },
   "outputs": [],
   "source": [
    "bid_quantity = (demand_plb_pred - solar_val_pred).values.flatten()\n",
    "bid_price = pd.DataFrame(price_plb_pred.values + error_statistic.values).values.flatten()\n",
    "submission = pd.DataFrame([bid_price, bid_quantity]).head()\n",
    "submission.T.to_csv('23.csv', header=None, index=None)"
   ]
  },
  {
   "cell_type": "code",
   "execution_count": 20,
   "metadata": {
    "collapsed": true
   },
   "outputs": [],
   "source": [
    "def submit(name):\n",
    "    \"\"\"Submits name file to the online grader.\"\"\"\n",
    "    url = 'http://interiit.tech:3000/upload'\n",
    "    files = {'file': (name, open(name, 'rb'), '.text/csv', {'Content-Disposition': 'form-data'})}\n",
    "    r = requests.post(url, files=files)"
   ]
  },
  {
   "cell_type": "code",
   "execution_count": 21,
   "metadata": {
    "collapsed": true
   },
   "outputs": [],
   "source": [
    "def score(team_id):\n",
    "    \"\"\"Returns score of 'team_id'\"\"\"\n",
    "    return pd.read_csv('http://interiit.tech:3000/results.csv').loc[team_id]['Score']"
   ]
  },
  {
   "cell_type": "code",
   "execution_count": 22,
   "metadata": {},
   "outputs": [
    {
     "data": {
      "text/plain": [
       "322250"
      ]
     },
     "execution_count": 22,
     "metadata": {},
     "output_type": "execute_result"
    }
   ],
   "source": [
    "submit('23.csv')\n",
    "score(23)"
   ]
  }
 ],
 "metadata": {
  "kernelspec": {
   "display_name": "Python 3",
   "language": "python",
   "name": "python3"
  },
  "language_info": {
   "codemirror_mode": {
    "name": "ipython",
    "version": 3
   },
   "file_extension": ".py",
   "mimetype": "text/x-python",
   "name": "python",
   "nbconvert_exporter": "python",
   "pygments_lexer": "ipython3",
   "version": "3.6.0"
  }
 },
 "nbformat": 4,
 "nbformat_minor": 2
}
