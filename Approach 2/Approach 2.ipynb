{
 "cells": [
  {
   "cell_type": "markdown",
   "metadata": {},
   "source": [
    "# Loading libraries"
   ]
  },
  {
   "cell_type": "code",
   "execution_count": 1,
   "metadata": {
    "collapsed": true
   },
   "outputs": [],
   "source": [
    "import torch\n",
    "import numpy as np\n",
    "import pandas as pd\n",
    "import torch.optim as optim\n",
    "from torch.nn import Parameter, Sigmoid\n",
    "from torch.autograd import Variable\n",
    "import torch.nn as nn"
   ]
  },
  {
   "cell_type": "markdown",
   "metadata": {},
   "source": [
    "# Network which decides demand and price to bid"
   ]
  },
  {
   "cell_type": "code",
   "execution_count": 2,
   "metadata": {
    "collapsed": true
   },
   "outputs": [],
   "source": [
    "class Net(nn.Module):\n",
    "    \"\"\"This neural network decides the bid quantity and bid price given the demand, solar output, price predicted by oracle\"\"\"\n",
    "    def __init__(self):\n",
    "        super(Net, self).__init__()\n",
    "        self.w1 = Parameter(torch.ones(24) + 0.01 * torch.randn(24))\n",
    "        self.w2 = Parameter(torch.ones(24) + 0.01 * torch.randn(24))\n",
    "\n",
    "    def forward(self, oracle_demand, oracle_solar, oracle_price):\n",
    "        bid_demand = (oracle_demand - oracle_solar) * self.w1\n",
    "        bid_price = oracle_price * self.w2\n",
    "        bid_demand.data.clamp(min=0)\n",
    "        bid_price.data.clamp_(max=7) # As if bid_price is greater than 7 it is beneficial to get electricity from DISCOM.\n",
    "        return bid_demand, bid_price"
   ]
  },
  {
   "cell_type": "markdown",
   "metadata": {},
   "source": [
    "# Loading data"
   ]
  },
  {
   "cell_type": "code",
   "execution_count": 3,
   "metadata": {
    "collapsed": true
   },
   "outputs": [],
   "source": [
    "demand_train_oracle = pd.read_csv('./Data/Demand_Train_pred.csv', header=None)\n",
    "demand_train_actual = pd.read_csv('./Data/Demand_Train.csv', header=None)\n",
    "solar_train_oracle = pd.read_csv('./Data/Solar_Train_pred.csv', header=None)\n",
    "solar_train_actual = pd.read_csv('./Data/Solar_Train.csv', header=None)\n",
    "price_train_oracle = pd.read_csv('./Data/Price_Train_pred.csv', header=None)\n",
    "price_train_actual = pd.read_csv('./Data/Price_Train.csv', header=None)"
   ]
  },
  {
   "cell_type": "markdown",
   "metadata": {},
   "source": [
    "# Defining cost"
   ]
  },
  {
   "cell_type": "code",
   "execution_count": 4,
   "metadata": {
    "collapsed": true
   },
   "outputs": [],
   "source": [
    "def cost(bid_quantities, bid_prices, demands, solar_outputs, prices):\n",
    "    \"\"\"Calculates bill given bid quantity, bid price, actual demand, solar output and price.\"\"\"\n",
    "    BATTERY_CAPACITY = 25\n",
    "    BATTERY_CAPACITY_PER_HOUR = 5\n",
    "    BATTERY_EFFICIENCY = 0.8\n",
    "    DISCOM_RATE = 7\n",
    "    battery = Variable(torch.Tensor([0]))\n",
    "    cost = Variable(torch.Tensor([0]))\n",
    "    for bid_quantity, bid_price, demand, solar_output, price in zip(bid_quantities.contiguous().view(-1), bid_prices.contiguous().view(-1), demands.contiguous().view(-1), solar_outputs.contiguous().view(-1), prices.contiguous().view(-1)):\n",
    "        energy_from_sun = torch.min(solar_output, demand)\n",
    "        sigmoid = Sigmoid()\n",
    "        bid_won = sigmoid(1000 * (bid_price - price) / bid_price)\n",
    "        energy_from_market = bid_won * bid_quantity\n",
    "        energy_from_battery = torch.min(torch.clamp((demand - energy_from_sun - energy_from_market) / BATTERY_EFFICIENCY, min=0),\n",
    "                                        torch.clamp(battery, max=BATTERY_CAPACITY_PER_HOUR)) * BATTERY_EFFICIENCY\n",
    "        energy_from_DISCOM = torch.clamp(demand - energy_from_sun - energy_from_market - energy_from_battery, min=0)\n",
    "        \n",
    "        residual_energy = torch.clamp(energy_from_market + energy_from_sun - demand, min=0)\n",
    "        battery = battery + torch.clamp(residual_energy, max=BATTERY_CAPACITY_PER_HOUR) - energy_from_battery / BATTERY_EFFICIENCY\n",
    "        battery = torch.clamp(battery, min=0, max=BATTERY_CAPACITY)\n",
    "        \n",
    "        cost += energy_from_market * bid_price + energy_from_DISCOM * DISCOM_RATE\n",
    "    return cost"
   ]
  },
  {
   "cell_type": "markdown",
   "metadata": {},
   "source": [
    "# Training network"
   ]
  },
  {
   "cell_type": "code",
   "execution_count": 5,
   "metadata": {
    "collapsed": true
   },
   "outputs": [],
   "source": [
    "data_size = demand_train_actual.values.shape[0]\n",
    "epochs = 20\n",
    "batch_size = 1 # Updates weights every day\n",
    "net = Net()\n",
    "optimizer = optim.SGD(net.parameters(), lr=10 ** (-8), momentum=0.9)"
   ]
  },
  {
   "cell_type": "code",
   "execution_count": 6,
   "metadata": {
    "scrolled": true
   },
   "outputs": [
    {
     "name": "stdout",
     "output_type": "stream",
     "text": [
      "Epoch 1, Average bill over 50 days: 404765.8046875\n",
      "Epoch 2, Average bill over 50 days: 364841.1834581163\n",
      "Epoch 3, Average bill over 50 days: 342690.47587076825\n",
      "Epoch 4, Average bill over 50 days: 330586.8276774089\n",
      "Epoch 5, Average bill over 50 days: 324875.6608751085\n",
      "Epoch 6, Average bill over 50 days: 321835.29163953994\n",
      "Epoch 7, Average bill over 50 days: 320457.3642442491\n",
      "Epoch 8, Average bill over 50 days: 320186.92351616756\n",
      "Epoch 9, Average bill over 50 days: 319465.3546685113\n",
      "Epoch 10, Average bill over 50 days: 319070.78679063584\n",
      "Epoch 11, Average bill over 50 days: 318964.4822658963\n",
      "Epoch 12, Average bill over 50 days: 318844.2639160156\n",
      "Epoch 13, Average bill over 50 days: 318796.81222195097\n",
      "Epoch 14, Average bill over 50 days: 318721.3420206706\n",
      "Epoch 15, Average bill over 50 days: 318687.81543646916\n",
      "Epoch 16, Average bill over 50 days: 318635.1669108073\n",
      "Epoch 17, Average bill over 50 days: 318567.59283447266\n",
      "Epoch 18, Average bill over 50 days: 318583.3370700412\n",
      "Epoch 19, Average bill over 50 days: 318549.7271253798\n",
      "Epoch 20, Average bill over 50 days: 318526.27697753906\n"
     ]
    }
   ],
   "source": [
    "for epoch in range(epochs):\n",
    "    start = 0 # starting index\n",
    "    end = batch_size\n",
    "    epoch_loss = 0\n",
    "    while end <= data_size:\n",
    "        net.zero_grad()\n",
    "        bid_quantities, bid_prices = net(Variable(torch.Tensor(demand_train_oracle.values[start:end])), \n",
    "                                         Variable(torch.Tensor(solar_train_oracle.values[start:end])), \n",
    "                                         Variable(torch.Tensor(price_train_oracle.values[start:end])))\n",
    "        loss = cost(bid_quantities, bid_prices,\n",
    "                    Variable(torch.Tensor(demand_train_actual.values[start:end])),\n",
    "                    Variable(torch.Tensor(solar_train_actual.values[start:end])),\n",
    "                    Variable(torch.Tensor(price_train_actual.values[start:end])))\n",
    "        loss.backward()\n",
    "        optimizer.step()\n",
    "        epoch_loss += loss.data[0]\n",
    "        start += batch_size\n",
    "        end += batch_size\n",
    "    print('Epoch {}, Average bill over 50 days: {}'.format(epoch + 1, epoch_loss * 50 / data_size))"
   ]
  },
  {
   "cell_type": "markdown",
   "metadata": {},
   "source": [
    "# Generating solution"
   ]
  },
  {
   "cell_type": "markdown",
   "metadata": {},
   "source": [
    "## Public leaderboard"
   ]
  },
  {
   "cell_type": "code",
   "execution_count": 7,
   "metadata": {
    "collapsed": true
   },
   "outputs": [],
   "source": [
    "demand_pub_oracle = pd.read_csv('./Data/Demand_LB_pred.csv', header=None)\n",
    "solar_pub_oracle = pd.read_csv('./Data/Solar_LB_pred.csv', header=None)\n",
    "price_pub_oracle = pd.read_csv('./Data/Price_LB_pred.csv', header=None)"
   ]
  },
  {
   "cell_type": "code",
   "execution_count": 8,
   "metadata": {},
   "outputs": [],
   "source": [
    "bid_quantities, bid_prices = net(Variable(torch.Tensor(demand_pub_oracle.values)), \n",
    "                                 Variable(torch.Tensor(solar_pub_oracle.values)), \n",
    "                                 Variable(torch.Tensor(price_pub_oracle.values)))\n",
    "bid_quantity = np.floor(bid_quantities.data.numpy().flatten())\n",
    "bid_price = bid_prices.data.numpy().flatten()\n",
    "submission_pub = pd.DataFrame([bid_price, bid_quantity]).T\n",
    "submission_pub.to_csv('13_public.csv', header=None, index=None)"
   ]
  },
  {
   "cell_type": "markdown",
   "metadata": {},
   "source": [
    "# Private leaderboard"
   ]
  },
  {
   "cell_type": "code",
   "execution_count": 9,
   "metadata": {
    "collapsed": true
   },
   "outputs": [],
   "source": [
    "demand_prv_oracle = pd.read_csv('./Data/Demand_Test_pred.csv', header=None)\n",
    "solar_prv_oracle = pd.read_csv('./Data/Solar_Test_pred.csv', header=None)\n",
    "price_prv_oracle = pd.read_csv('./Data/Price_Test_pred.csv', header=None)"
   ]
  },
  {
   "cell_type": "code",
   "execution_count": 10,
   "metadata": {
    "collapsed": true
   },
   "outputs": [],
   "source": [
    "bid_quantities, bid_prices = net(Variable(torch.Tensor(demand_prv_oracle.values)), \n",
    "                                 Variable(torch.Tensor(solar_prv_oracle.values)), \n",
    "                                 Variable(torch.Tensor(price_prv_oracle.values)))\n",
    "bid_quantity = np.floor(bid_quantities.data.numpy().flatten())\n",
    "bid_price = bid_prices.data.numpy().flatten()\n",
    "submission_prv = pd.DataFrame([bid_price, bid_quantity]).T\n",
    "submission_prv.to_csv('13_private.csv', header=None, index=None)"
   ]
  }
 ],
 "metadata": {
  "kernelspec": {
   "display_name": "Python 3",
   "language": "python",
   "name": "python3"
  },
  "language_info": {
   "codemirror_mode": {
    "name": "ipython",
    "version": 3
   },
   "file_extension": ".py",
   "mimetype": "text/x-python",
   "name": "python",
   "nbconvert_exporter": "python",
   "pygments_lexer": "ipython3",
   "version": "3.6.0"
  }
 },
 "nbformat": 4,
 "nbformat_minor": 2
}
