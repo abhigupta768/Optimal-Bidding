{
 "cells": [
  {
   "cell_type": "markdown",
   "metadata": {},
   "source": [
    "# BIDDING STATERGIES\n",
    "\n",
    "## Approach 1\n",
    "\n",
    "In this approach, we just bid the predicted demand after subtracting the predicted solar output at the predicted market price."
   ]
  },
  {
   "cell_type": "code",
   "execution_count": 1,
   "metadata": {
    "collapsed": true
   },
   "outputs": [],
   "source": [
    "import numpy as np\n",
    "import pandas as pd\n",
    "from scorer import bill_maker"
   ]
  },
  {
   "cell_type": "code",
   "execution_count": 2,
   "metadata": {
    "collapsed": true
   },
   "outputs": [],
   "source": [
    "demand=pd.read_csv(\"Prediction/demand.csv\", header=None)\n",
    "market_price=pd.read_csv(\"Prediction/market_price.csv\", header=None)\n",
    "solar_output=pd.read_csv(\"Prediction/solar_output.csv\", header=None)"
   ]
  },
  {
   "cell_type": "code",
   "execution_count": 3,
   "metadata": {
    "collapsed": true
   },
   "outputs": [],
   "source": [
    "bid_quantity_pred=pd.DataFrame(demand-solar_output)"
   ]
  },
  {
   "cell_type": "code",
   "execution_count": 4,
   "metadata": {
    "collapsed": true
   },
   "outputs": [],
   "source": [
    "bid_price_pred=pd.DataFrame(market_price)"
   ]
  },
  {
   "cell_type": "markdown",
   "metadata": {},
   "source": [
    "### Comparing prediction with Oracle"
   ]
  },
  {
   "cell_type": "code",
   "execution_count": 5,
   "metadata": {
    "collapsed": true
   },
   "outputs": [],
   "source": [
    "demand_oracle=pd.read_csv(\"Processed Data/Demand_Val_pred.csv\", header=None)\n",
    "market_price_oracle=pd.read_csv(\"Processed Data/Price_Val_pred.csv\", header=None)\n",
    "solar_output_oracle=pd.read_csv(\"Processed Data/Solar_Val_pred.csv\", header=None)"
   ]
  },
  {
   "cell_type": "code",
   "execution_count": 6,
   "metadata": {
    "collapsed": true
   },
   "outputs": [],
   "source": [
    "bid_quantity_oracle=pd.DataFrame(demand_oracle - solar_output_oracle)"
   ]
  },
  {
   "cell_type": "code",
   "execution_count": 7,
   "metadata": {
    "collapsed": true
   },
   "outputs": [],
   "source": [
    "bid_price_oracle=pd.DataFrame(market_price_oracle)"
   ]
  },
  {
   "cell_type": "code",
   "execution_count": 8,
   "metadata": {
    "collapsed": true
   },
   "outputs": [],
   "source": [
    "daily_bill_pred,total_bill_pred=bill_maker(bid_price_pred,bid_quantity_pred)"
   ]
  },
  {
   "cell_type": "code",
   "execution_count": 9,
   "metadata": {
    "collapsed": true
   },
   "outputs": [],
   "source": [
    "daily_bill_oracle,total_bill_oracle=bill_maker(bid_price_oracle,bid_quantity_oracle)"
   ]
  },
  {
   "cell_type": "code",
   "execution_count": 10,
   "metadata": {
    "scrolled": true
   },
   "outputs": [
    {
     "data": {
      "text/plain": [
       "383320.09645041835"
      ]
     },
     "execution_count": 10,
     "metadata": {},
     "output_type": "execute_result"
    }
   ],
   "source": [
    "total_bill_pred"
   ]
  },
  {
   "cell_type": "code",
   "execution_count": 11,
   "metadata": {},
   "outputs": [
    {
     "data": {
      "text/plain": [
       "418580.69730000006"
      ]
     },
     "execution_count": 11,
     "metadata": {},
     "output_type": "execute_result"
    }
   ],
   "source": [
    "total_bill_oracle"
   ]
  },
  {
   "cell_type": "markdown",
   "metadata": {},
   "source": [
    "### Saving prediction to output"
   ]
  },
  {
   "cell_type": "code",
   "execution_count": 12,
   "metadata": {
    "collapsed": true
   },
   "outputs": [],
   "source": [
    "bid_quantity_pred.to_csv(\"Output/BidQuantity.csv\", index=False, header=False)\n",
    "bid_price_pred.to_csv(\"Output/BidPrice.csv\", index=False, header=False)"
   ]
  },
  {
   "cell_type": "markdown",
   "metadata": {},
   "source": [
    "## Approach 2\n",
    "\n",
    "In this approach, we try to find the optimal margin that should be added to market price so that we avoid loosing the bid. We try to find this margin by considering the full training data."
   ]
  },
  {
   "cell_type": "code",
   "execution_count": 13,
   "metadata": {
    "collapsed": true
   },
   "outputs": [],
   "source": [
    "demand_actual_train=pd.read_csv(\"Processed Data/Demand_Train.csv\", header=None)\n",
    "market_price_train=pd.read_csv(\"Processed Data/Price_Train.csv\", header=None)\n",
    "market_price_train_oracle=pd.read_csv(\"Processed Data/Price_Train_pred.csv\", header=None)\n",
    "solar_output_train=pd.read_csv(\"Processed Data/Solar_Train.csv\", header=None)"
   ]
  },
  {
   "cell_type": "code",
   "execution_count": 14,
   "metadata": {},
   "outputs": [
    {
     "data": {
      "text/html": [
       "<div>\n",
       "<style>\n",
       "    .dataframe thead tr:only-child th {\n",
       "        text-align: right;\n",
       "    }\n",
       "\n",
       "    .dataframe thead th {\n",
       "        text-align: left;\n",
       "    }\n",
       "\n",
       "    .dataframe tbody tr th {\n",
       "        vertical-align: top;\n",
       "    }\n",
       "</style>\n",
       "<table border=\"1\" class=\"dataframe\">\n",
       "  <thead>\n",
       "    <tr style=\"text-align: right;\">\n",
       "      <th></th>\n",
       "      <th>0</th>\n",
       "    </tr>\n",
       "  </thead>\n",
       "  <tbody>\n",
       "    <tr>\n",
       "      <th>count</th>\n",
       "      <td>24.000000</td>\n",
       "    </tr>\n",
       "    <tr>\n",
       "      <th>mean</th>\n",
       "      <td>2.904113</td>\n",
       "    </tr>\n",
       "    <tr>\n",
       "      <th>std</th>\n",
       "      <td>0.950572</td>\n",
       "    </tr>\n",
       "    <tr>\n",
       "      <th>min</th>\n",
       "      <td>1.577847</td>\n",
       "    </tr>\n",
       "    <tr>\n",
       "      <th>25%</th>\n",
       "      <td>2.067374</td>\n",
       "    </tr>\n",
       "    <tr>\n",
       "      <th>50%</th>\n",
       "      <td>3.015271</td>\n",
       "    </tr>\n",
       "    <tr>\n",
       "      <th>75%</th>\n",
       "      <td>3.423165</td>\n",
       "    </tr>\n",
       "    <tr>\n",
       "      <th>max</th>\n",
       "      <td>4.616106</td>\n",
       "    </tr>\n",
       "  </tbody>\n",
       "</table>\n",
       "</div>"
      ],
      "text/plain": [
       "               0\n",
       "count  24.000000\n",
       "mean    2.904113\n",
       "std     0.950572\n",
       "min     1.577847\n",
       "25%     2.067374\n",
       "50%     3.015271\n",
       "75%     3.423165\n",
       "max     4.616106"
      ]
     },
     "execution_count": 14,
     "metadata": {},
     "output_type": "execute_result"
    }
   ],
   "source": [
    "pd.DataFrame(market_price_train.describe()[1:2].mean()).describe()"
   ]
  },
  {
   "cell_type": "code",
   "execution_count": 15,
   "metadata": {},
   "outputs": [
    {
     "data": {
      "text/html": [
       "<div>\n",
       "<style>\n",
       "    .dataframe thead tr:only-child th {\n",
       "        text-align: right;\n",
       "    }\n",
       "\n",
       "    .dataframe thead th {\n",
       "        text-align: left;\n",
       "    }\n",
       "\n",
       "    .dataframe tbody tr th {\n",
       "        vertical-align: top;\n",
       "    }\n",
       "</style>\n",
       "<table border=\"1\" class=\"dataframe\">\n",
       "  <thead>\n",
       "    <tr style=\"text-align: right;\">\n",
       "      <th></th>\n",
       "      <th>0</th>\n",
       "    </tr>\n",
       "  </thead>\n",
       "  <tbody>\n",
       "    <tr>\n",
       "      <th>count</th>\n",
       "      <td>24.000000</td>\n",
       "    </tr>\n",
       "    <tr>\n",
       "      <th>mean</th>\n",
       "      <td>2.989362</td>\n",
       "    </tr>\n",
       "    <tr>\n",
       "      <th>std</th>\n",
       "      <td>1.005487</td>\n",
       "    </tr>\n",
       "    <tr>\n",
       "      <th>min</th>\n",
       "      <td>1.603741</td>\n",
       "    </tr>\n",
       "    <tr>\n",
       "      <th>25%</th>\n",
       "      <td>2.102923</td>\n",
       "    </tr>\n",
       "    <tr>\n",
       "      <th>50%</th>\n",
       "      <td>3.115149</td>\n",
       "    </tr>\n",
       "    <tr>\n",
       "      <th>75%</th>\n",
       "      <td>3.523238</td>\n",
       "    </tr>\n",
       "    <tr>\n",
       "      <th>max</th>\n",
       "      <td>4.831434</td>\n",
       "    </tr>\n",
       "  </tbody>\n",
       "</table>\n",
       "</div>"
      ],
      "text/plain": [
       "               0\n",
       "count  24.000000\n",
       "mean    2.989362\n",
       "std     1.005487\n",
       "min     1.603741\n",
       "25%     2.102923\n",
       "50%     3.115149\n",
       "75%     3.523238\n",
       "max     4.831434"
      ]
     },
     "execution_count": 15,
     "metadata": {},
     "output_type": "execute_result"
    }
   ],
   "source": [
    "pd.DataFrame(market_price.describe()[1:2].mean()).describe()"
   ]
  },
  {
   "cell_type": "code",
   "execution_count": 16,
   "metadata": {},
   "outputs": [
    {
     "data": {
      "text/html": [
       "<div>\n",
       "<style>\n",
       "    .dataframe thead tr:only-child th {\n",
       "        text-align: right;\n",
       "    }\n",
       "\n",
       "    .dataframe thead th {\n",
       "        text-align: left;\n",
       "    }\n",
       "\n",
       "    .dataframe tbody tr th {\n",
       "        vertical-align: top;\n",
       "    }\n",
       "</style>\n",
       "<table border=\"1\" class=\"dataframe\">\n",
       "  <thead>\n",
       "    <tr style=\"text-align: right;\">\n",
       "      <th></th>\n",
       "      <th>0</th>\n",
       "    </tr>\n",
       "  </thead>\n",
       "  <tbody>\n",
       "    <tr>\n",
       "      <th>mean</th>\n",
       "      <td>0.085249</td>\n",
       "    </tr>\n",
       "  </tbody>\n",
       "</table>\n",
       "</div>"
      ],
      "text/plain": [
       "             0\n",
       "mean  0.085249"
      ]
     },
     "execution_count": 16,
     "metadata": {},
     "output_type": "execute_result"
    }
   ],
   "source": [
    "pd.DataFrame(market_price.describe()[1:2].mean()).describe().loc[[\"mean\"]]-pd.DataFrame(market_price_train.describe()[1:2].mean()).describe().loc[[\"mean\"]]"
   ]
  },
  {
   "cell_type": "markdown",
   "metadata": {},
   "source": [
    "From the above difference of mean, we can see that mean of predicted market price is greater than that of the training data, Hence we subtract this mean from the predicted market price."
   ]
  },
  {
   "cell_type": "code",
   "execution_count": 17,
   "metadata": {
    "collapsed": true
   },
   "outputs": [],
   "source": [
    "bid_price_pred=pd.DataFrame(market_price - 0.085249)"
   ]
  },
  {
   "cell_type": "code",
   "execution_count": 18,
   "metadata": {
    "collapsed": true
   },
   "outputs": [],
   "source": [
    "daily_bill_pred,total_bill_pred=bill_maker(bid_price_pred,bid_quantity_pred)"
   ]
  },
  {
   "cell_type": "markdown",
   "metadata": {},
   "source": [
    "### Comparing prediction with Oracle"
   ]
  },
  {
   "cell_type": "code",
   "execution_count": 19,
   "metadata": {},
   "outputs": [
    {
     "data": {
      "text/plain": [
       "473192.10357479547"
      ]
     },
     "execution_count": 19,
     "metadata": {},
     "output_type": "execute_result"
    }
   ],
   "source": [
    "total_bill_pred"
   ]
  },
  {
   "cell_type": "code",
   "execution_count": 20,
   "metadata": {},
   "outputs": [
    {
     "data": {
      "text/plain": [
       "418580.69730000006"
      ]
     },
     "execution_count": 20,
     "metadata": {},
     "output_type": "execute_result"
    }
   ],
   "source": [
    "total_bill_oracle"
   ]
  },
  {
   "cell_type": "markdown",
   "metadata": {},
   "source": [
    "We can also find hour wise mean for the training data and correspondingly add/subtract from our predicted market price."
   ]
  },
  {
   "cell_type": "code",
   "execution_count": 21,
   "metadata": {
    "collapsed": true
   },
   "outputs": [],
   "source": [
    "hourly_mean=(market_price.describe().loc[[\"mean\"]] - market_price_train.describe().loc[[\"mean\"]]).mean()"
   ]
  },
  {
   "cell_type": "code",
   "execution_count": 22,
   "metadata": {
    "collapsed": true
   },
   "outputs": [],
   "source": [
    "bid_price_pred=pd.DataFrame(market_price - hourly_mean)"
   ]
  },
  {
   "cell_type": "code",
   "execution_count": 23,
   "metadata": {
    "collapsed": true
   },
   "outputs": [],
   "source": [
    "daily_bill_pred,total_bill_pred=bill_maker(bid_price_pred,bid_quantity_pred)"
   ]
  },
  {
   "cell_type": "markdown",
   "metadata": {},
   "source": [
    "### Comparing prediction with Oracle"
   ]
  },
  {
   "cell_type": "code",
   "execution_count": 24,
   "metadata": {},
   "outputs": [
    {
     "data": {
      "text/plain": [
       "454251.62216230325"
      ]
     },
     "execution_count": 24,
     "metadata": {},
     "output_type": "execute_result"
    }
   ],
   "source": [
    "total_bill_pred"
   ]
  },
  {
   "cell_type": "code",
   "execution_count": 25,
   "metadata": {},
   "outputs": [
    {
     "data": {
      "text/plain": [
       "418580.69730000006"
      ]
     },
     "execution_count": 25,
     "metadata": {},
     "output_type": "execute_result"
    }
   ],
   "source": [
    "total_bill_oracle"
   ]
  },
  {
   "cell_type": "markdown",
   "metadata": {},
   "source": [
    "We can also subtract the 25th percentile of the difference of price predicted by oracle and actual price when the predicted price by Oracle is less than Actual price (the case when we loose the bid) to ensure that 75% the we win it."
   ]
  },
  {
   "cell_type": "code",
   "execution_count": 26,
   "metadata": {
    "collapsed": true
   },
   "outputs": [],
   "source": [
    "margin_25=(market_price_train_oracle - market_price_train)[(market_price_train_oracle - market_price_train)<0].describe().loc[['25%']].mean()"
   ]
  },
  {
   "cell_type": "code",
   "execution_count": 27,
   "metadata": {
    "collapsed": true
   },
   "outputs": [],
   "source": [
    "bid_price_pred=pd.DataFrame(market_price - margin_25)"
   ]
  },
  {
   "cell_type": "code",
   "execution_count": 28,
   "metadata": {
    "collapsed": true
   },
   "outputs": [],
   "source": [
    "daily_bill_pred,total_bill_pred=bill_maker(bid_price_pred,bid_quantity_pred)"
   ]
  },
  {
   "cell_type": "markdown",
   "metadata": {},
   "source": [
    "### Comparing prediction with Oracle"
   ]
  },
  {
   "cell_type": "code",
   "execution_count": 29,
   "metadata": {},
   "outputs": [
    {
     "data": {
      "text/plain": [
       "309519.2878948272"
      ]
     },
     "execution_count": 29,
     "metadata": {},
     "output_type": "execute_result"
    }
   ],
   "source": [
    "total_bill_pred"
   ]
  },
  {
   "cell_type": "code",
   "execution_count": 30,
   "metadata": {},
   "outputs": [
    {
     "data": {
      "text/plain": [
       "418580.69730000006"
      ]
     },
     "execution_count": 30,
     "metadata": {},
     "output_type": "execute_result"
    }
   ],
   "source": [
    "total_bill_oracle"
   ]
  },
  {
   "cell_type": "markdown",
   "metadata": {},
   "source": [
    "### Saving prediction to output"
   ]
  },
  {
   "cell_type": "code",
   "execution_count": 31,
   "metadata": {
    "collapsed": true
   },
   "outputs": [],
   "source": [
    "bid_quantity_pred.to_csv(\"Output/BidQuantity.csv\", index=False, header=False)\n",
    "bid_price_pred.to_csv(\"Output/BidPrice.csv\", index=False, header=False)"
   ]
  },
  {
   "cell_type": "markdown",
   "metadata": {},
   "source": [
    "## Approach 3\n",
    "\n",
    "In this approach, we find the appropriate margin by considering the specific 50 days from the previous 2 years."
   ]
  },
  {
   "cell_type": "code",
   "execution_count": 32,
   "metadata": {},
   "outputs": [
    {
     "data": {
      "text/plain": [
       "array([[ 1.55,  1.35,  1.35, ...,  2.4 ,  2.22,  1.35],\n",
       "       [ 1.55,  1.35,  1.27, ...,  2.29,  1.89,  1.01],\n",
       "       [ 1.95,  1.98,  1.93, ...,  2.9 ,  2.31,  1.28],\n",
       "       ..., \n",
       "       [ 1.3 ,  1.3 ,  1.3 , ...,  2.91,  2.45,  1.42],\n",
       "       [ 1.3 ,  1.3 ,  1.3 , ...,  2.63,  2.36,  1.4 ],\n",
       "       [ 1.35,  1.19,  1.19, ...,  3.66,  3.13,  1.47]])"
      ]
     },
     "execution_count": 32,
     "metadata": {},
     "output_type": "execute_result"
    }
   ],
   "source": [
    "market_price_train[-365:-365 + 50].values"
   ]
  },
  {
   "cell_type": "code",
   "execution_count": 33,
   "metadata": {},
   "outputs": [
    {
     "data": {
      "text/plain": [
       "array([[ 1.97,  1.58,  1.36, ...,  2.19,  1.95,  1.81],\n",
       "       [ 1.62,  1.35,  1.38, ...,  2.4 ,  2.3 ,  1.38],\n",
       "       [ 1.57,  1.4 ,  1.3 , ...,  2.29,  1.93,  1.01],\n",
       "       ..., \n",
       "       [ 1.76,  1.65,  1.21, ...,  2.57,  2.08,  1.03],\n",
       "       [ 1.31,  1.34,  1.32, ...,  2.92,  2.56,  1.5 ],\n",
       "       [ 1.32,  1.3 ,  1.34, ...,  2.69,  2.45,  1.42]])"
      ]
     },
     "execution_count": 33,
     "metadata": {},
     "output_type": "execute_result"
    }
   ],
   "source": [
    "market_price_train[-365*2:-365*2 + 50].values"
   ]
  },
  {
   "cell_type": "markdown",
   "metadata": {},
   "source": [
    "We find the average market price by the considering the 50 day period from the two previous years."
   ]
  },
  {
   "cell_type": "code",
   "execution_count": 34,
   "metadata": {
    "collapsed": true
   },
   "outputs": [],
   "source": [
    "market_price_avg = (market_price_train[-365:-365 + 50].values + market_price_train[-365*2:-365*2 + 50].values)/2"
   ]
  },
  {
   "cell_type": "code",
   "execution_count": 35,
   "metadata": {},
   "outputs": [],
   "source": [
    "market_price_avg=pd.DataFrame(market_price_avg)"
   ]
  },
  {
   "cell_type": "code",
   "execution_count": 36,
   "metadata": {},
   "outputs": [
    {
     "data": {
      "text/html": [
       "<div>\n",
       "<style>\n",
       "    .dataframe thead tr:only-child th {\n",
       "        text-align: right;\n",
       "    }\n",
       "\n",
       "    .dataframe thead th {\n",
       "        text-align: left;\n",
       "    }\n",
       "\n",
       "    .dataframe tbody tr th {\n",
       "        vertical-align: top;\n",
       "    }\n",
       "</style>\n",
       "<table border=\"1\" class=\"dataframe\">\n",
       "  <thead>\n",
       "    <tr style=\"text-align: right;\">\n",
       "      <th></th>\n",
       "      <th>0</th>\n",
       "      <th>1</th>\n",
       "      <th>2</th>\n",
       "      <th>3</th>\n",
       "      <th>4</th>\n",
       "      <th>5</th>\n",
       "      <th>6</th>\n",
       "      <th>7</th>\n",
       "      <th>8</th>\n",
       "      <th>9</th>\n",
       "      <th>...</th>\n",
       "      <th>14</th>\n",
       "      <th>15</th>\n",
       "      <th>16</th>\n",
       "      <th>17</th>\n",
       "      <th>18</th>\n",
       "      <th>19</th>\n",
       "      <th>20</th>\n",
       "      <th>21</th>\n",
       "      <th>22</th>\n",
       "      <th>23</th>\n",
       "    </tr>\n",
       "  </thead>\n",
       "  <tbody>\n",
       "    <tr>\n",
       "      <th>0</th>\n",
       "      <td>1.760</td>\n",
       "      <td>1.465</td>\n",
       "      <td>1.355</td>\n",
       "      <td>1.365</td>\n",
       "      <td>1.375</td>\n",
       "      <td>2.055</td>\n",
       "      <td>3.795</td>\n",
       "      <td>4.625</td>\n",
       "      <td>4.645</td>\n",
       "      <td>4.795</td>\n",
       "      <td>...</td>\n",
       "      <td>2.295</td>\n",
       "      <td>2.570</td>\n",
       "      <td>2.83</td>\n",
       "      <td>3.030</td>\n",
       "      <td>3.235</td>\n",
       "      <td>3.005</td>\n",
       "      <td>3.015</td>\n",
       "      <td>2.295</td>\n",
       "      <td>2.085</td>\n",
       "      <td>1.580</td>\n",
       "    </tr>\n",
       "    <tr>\n",
       "      <th>1</th>\n",
       "      <td>1.585</td>\n",
       "      <td>1.350</td>\n",
       "      <td>1.325</td>\n",
       "      <td>1.175</td>\n",
       "      <td>1.160</td>\n",
       "      <td>2.205</td>\n",
       "      <td>3.665</td>\n",
       "      <td>4.725</td>\n",
       "      <td>4.980</td>\n",
       "      <td>5.765</td>\n",
       "      <td>...</td>\n",
       "      <td>3.290</td>\n",
       "      <td>2.500</td>\n",
       "      <td>2.74</td>\n",
       "      <td>3.000</td>\n",
       "      <td>3.360</td>\n",
       "      <td>2.935</td>\n",
       "      <td>2.975</td>\n",
       "      <td>2.345</td>\n",
       "      <td>2.095</td>\n",
       "      <td>1.195</td>\n",
       "    </tr>\n",
       "    <tr>\n",
       "      <th>2</th>\n",
       "      <td>1.760</td>\n",
       "      <td>1.690</td>\n",
       "      <td>1.615</td>\n",
       "      <td>1.425</td>\n",
       "      <td>1.740</td>\n",
       "      <td>2.965</td>\n",
       "      <td>4.715</td>\n",
       "      <td>5.640</td>\n",
       "      <td>5.840</td>\n",
       "      <td>6.650</td>\n",
       "      <td>...</td>\n",
       "      <td>3.740</td>\n",
       "      <td>2.995</td>\n",
       "      <td>3.02</td>\n",
       "      <td>3.340</td>\n",
       "      <td>3.590</td>\n",
       "      <td>2.815</td>\n",
       "      <td>2.945</td>\n",
       "      <td>2.595</td>\n",
       "      <td>2.120</td>\n",
       "      <td>1.145</td>\n",
       "    </tr>\n",
       "    <tr>\n",
       "      <th>3</th>\n",
       "      <td>2.150</td>\n",
       "      <td>2.145</td>\n",
       "      <td>2.125</td>\n",
       "      <td>2.105</td>\n",
       "      <td>2.440</td>\n",
       "      <td>2.395</td>\n",
       "      <td>4.645</td>\n",
       "      <td>5.725</td>\n",
       "      <td>6.095</td>\n",
       "      <td>5.855</td>\n",
       "      <td>...</td>\n",
       "      <td>3.550</td>\n",
       "      <td>3.675</td>\n",
       "      <td>3.48</td>\n",
       "      <td>3.565</td>\n",
       "      <td>3.685</td>\n",
       "      <td>3.135</td>\n",
       "      <td>3.150</td>\n",
       "      <td>2.945</td>\n",
       "      <td>2.245</td>\n",
       "      <td>1.425</td>\n",
       "    </tr>\n",
       "    <tr>\n",
       "      <th>4</th>\n",
       "      <td>2.295</td>\n",
       "      <td>2.325</td>\n",
       "      <td>2.330</td>\n",
       "      <td>2.290</td>\n",
       "      <td>2.295</td>\n",
       "      <td>2.375</td>\n",
       "      <td>4.575</td>\n",
       "      <td>5.275</td>\n",
       "      <td>5.725</td>\n",
       "      <td>5.770</td>\n",
       "      <td>...</td>\n",
       "      <td>3.720</td>\n",
       "      <td>3.895</td>\n",
       "      <td>3.72</td>\n",
       "      <td>3.370</td>\n",
       "      <td>3.690</td>\n",
       "      <td>3.320</td>\n",
       "      <td>3.225</td>\n",
       "      <td>2.665</td>\n",
       "      <td>2.340</td>\n",
       "      <td>1.595</td>\n",
       "    </tr>\n",
       "  </tbody>\n",
       "</table>\n",
       "<p>5 rows × 24 columns</p>\n",
       "</div>"
      ],
      "text/plain": [
       "      0      1      2      3      4      5      6      7      8      9   \\\n",
       "0  1.760  1.465  1.355  1.365  1.375  2.055  3.795  4.625  4.645  4.795   \n",
       "1  1.585  1.350  1.325  1.175  1.160  2.205  3.665  4.725  4.980  5.765   \n",
       "2  1.760  1.690  1.615  1.425  1.740  2.965  4.715  5.640  5.840  6.650   \n",
       "3  2.150  2.145  2.125  2.105  2.440  2.395  4.645  5.725  6.095  5.855   \n",
       "4  2.295  2.325  2.330  2.290  2.295  2.375  4.575  5.275  5.725  5.770   \n",
       "\n",
       "   ...       14     15    16     17     18     19     20     21     22     23  \n",
       "0  ...    2.295  2.570  2.83  3.030  3.235  3.005  3.015  2.295  2.085  1.580  \n",
       "1  ...    3.290  2.500  2.74  3.000  3.360  2.935  2.975  2.345  2.095  1.195  \n",
       "2  ...    3.740  2.995  3.02  3.340  3.590  2.815  2.945  2.595  2.120  1.145  \n",
       "3  ...    3.550  3.675  3.48  3.565  3.685  3.135  3.150  2.945  2.245  1.425  \n",
       "4  ...    3.720  3.895  3.72  3.370  3.690  3.320  3.225  2.665  2.340  1.595  \n",
       "\n",
       "[5 rows x 24 columns]"
      ]
     },
     "execution_count": 36,
     "metadata": {},
     "output_type": "execute_result"
    }
   ],
   "source": [
    "market_price_avg.head()"
   ]
  },
  {
   "cell_type": "markdown",
   "metadata": {},
   "source": [
    "We model margin through subtracting the 25 percentile value of the data when predicted market price is less than average market price. "
   ]
  },
  {
   "cell_type": "code",
   "execution_count": 37,
   "metadata": {
    "collapsed": true
   },
   "outputs": [],
   "source": [
    "margin_25=(market_price - market_price_avg)[(market_price - market_price_avg)<0].describe().loc[['25%']].mean()"
   ]
  },
  {
   "cell_type": "code",
   "execution_count": 38,
   "metadata": {
    "collapsed": true
   },
   "outputs": [],
   "source": [
    "bid_price_pred=pd.DataFrame(market_price - margin_25)"
   ]
  },
  {
   "cell_type": "code",
   "execution_count": 39,
   "metadata": {
    "collapsed": true
   },
   "outputs": [],
   "source": [
    "daily_bill_pred,total_bill_pred=bill_maker(bid_price_pred,bid_quantity_pred)"
   ]
  },
  {
   "cell_type": "markdown",
   "metadata": {},
   "source": [
    "### Comparing prediction with Oracle"
   ]
  },
  {
   "cell_type": "code",
   "execution_count": 40,
   "metadata": {},
   "outputs": [
    {
     "data": {
      "text/plain": [
       "320438.20609907928"
      ]
     },
     "execution_count": 40,
     "metadata": {},
     "output_type": "execute_result"
    }
   ],
   "source": [
    "total_bill_pred"
   ]
  },
  {
   "cell_type": "code",
   "execution_count": 41,
   "metadata": {},
   "outputs": [
    {
     "data": {
      "text/plain": [
       "418580.69730000006"
      ]
     },
     "execution_count": 41,
     "metadata": {},
     "output_type": "execute_result"
    }
   ],
   "source": [
    "total_bill_oracle"
   ]
  },
  {
   "cell_type": "markdown",
   "metadata": {},
   "source": [
    "We can also add the absolute margin to the predicted market price."
   ]
  },
  {
   "cell_type": "code",
   "execution_count": 42,
   "metadata": {},
   "outputs": [],
   "source": [
    "abs_margin=(market_price - market_price_avg).abs().describe().loc[[\"mean\"]].mean()"
   ]
  },
  {
   "cell_type": "code",
   "execution_count": 43,
   "metadata": {
    "collapsed": true
   },
   "outputs": [],
   "source": [
    "bid_price_pred=pd.DataFrame(market_price + abs_margin)"
   ]
  },
  {
   "cell_type": "code",
   "execution_count": 44,
   "metadata": {
    "collapsed": true
   },
   "outputs": [],
   "source": [
    "daily_bill_pred,total_bill_pred=bill_maker(bid_price_pred,bid_quantity_pred)"
   ]
  },
  {
   "cell_type": "markdown",
   "metadata": {},
   "source": [
    "### Comparing prediction with Oracle"
   ]
  },
  {
   "cell_type": "code",
   "execution_count": 45,
   "metadata": {},
   "outputs": [
    {
     "data": {
      "text/plain": [
       "312821.5886400243"
      ]
     },
     "execution_count": 45,
     "metadata": {},
     "output_type": "execute_result"
    }
   ],
   "source": [
    "total_bill_pred"
   ]
  },
  {
   "cell_type": "code",
   "execution_count": 46,
   "metadata": {},
   "outputs": [
    {
     "data": {
      "text/plain": [
       "418580.69730000006"
      ]
     },
     "execution_count": 46,
     "metadata": {},
     "output_type": "execute_result"
    }
   ],
   "source": [
    "total_bill_oracle"
   ]
  },
  {
   "cell_type": "markdown",
   "metadata": {},
   "source": [
    "### Saving prediction to output"
   ]
  },
  {
   "cell_type": "code",
   "execution_count": 47,
   "metadata": {
    "collapsed": true
   },
   "outputs": [],
   "source": [
    "bid_quantity_pred.to_csv(\"Output/BidQuantity.csv\", index=False, header=False)\n",
    "bid_price_pred.to_csv(\"Output/BidPrice.csv\", index=False, header=False)"
   ]
  }
 ],
 "metadata": {
  "kernelspec": {
   "display_name": "Python 3",
   "language": "python",
   "name": "python3"
  },
  "language_info": {
   "codemirror_mode": {
    "name": "ipython",
    "version": 3
   },
   "file_extension": ".py",
   "mimetype": "text/x-python",
   "name": "python",
   "nbconvert_exporter": "python",
   "pygments_lexer": "ipython3",
   "version": "3.6.3"
  }
 },
 "nbformat": 4,
 "nbformat_minor": 2
}
